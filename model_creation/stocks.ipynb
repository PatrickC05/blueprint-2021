{
  "nbformat": 4,
  "nbformat_minor": 0,
  "metadata": {
    "colab": {
      "name": "stocks",
      "provenance": [],
      "collapsed_sections": []
    },
    "kernelspec": {
      "name": "python3",
      "display_name": "Python 3",
      "language": "python"
    },
    "accelerator": "GPU"
  },
  "cells": [
    {
      "cell_type": "code",
      "metadata": {
        "id": "CmXrKrDuLcI2"
      },
      "source": [
        "import tensorflow as tf\n",
        "import numpy as np\n",
        "import pandas as pd\n",
        "import yfinance as yf\n",
        "import datetime\n",
        "import math"
      ],
      "execution_count": 1,
      "outputs": []
    },
    {
      "cell_type": "code",
      "metadata": {
        "id": "E_HIgEvcLfSD"
      },
      "source": [
        "\n",
        "start = datetime.datetime(2017, 1, 1)\n",
        "end = datetime.datetime(2021, 2, 19)\n",
        "\n",
        "\n",
        "companies = pd.read_csv('nasdaq_screener_1613925401786.csv')\n",
        "\n",
        "Symbols = [row['Symbol']\n",
        "           for index, row in companies.iterrows() if row['Market Cap'] > 1e9]"
      ],
      "execution_count": 4,
      "outputs": []
    },
    {
      "cell_type": "code",
      "metadata": {
        "id": "hPF32tf-nMu7",
        "colab": {
          "base_uri": "https://localhost:8080/"
        },
        "outputId": "2b181408-a16c-482d-a25a-52776084352c"
      },
      "source": [
        "stock_final = pd.DataFrame()\n",
        "# iterate over each symbol\n",
        "for i in Symbols:\n",
        "\n",
        "    # print the symbol which is being downloaded\n",
        "    try:\n",
        "        # download the stock price\n",
        "        stock = []\n",
        "        stock = yf.download(i, start=start, end=end, progress=False)\n",
        "\n",
        "        # append the individual stock prices\n",
        "        if len(stock) == 0:\n",
        "            None\n",
        "        else:\n",
        "            stock['Name'] = i\n",
        "            stock_final = stock_final.append(stock, sort=False)\n",
        "    except Exception:\n",
        "        None"
      ],
      "execution_count": 5,
      "outputs": [
        {
          "output_type": "stream",
          "text": [
            "\n",
            "1 Failed download:\n",
            "- OTTR: No data found for this date range, symbol may be delisted\n"
          ],
          "name": "stdout"
        }
      ]
    },
    {
      "cell_type": "code",
      "metadata": {
        "id": "Bi3O3z127lJT"
      },
      "source": [
        "stock_final = stock_final[['Name','Close']]"
      ],
      "execution_count": 6,
      "outputs": []
    },
    {
      "cell_type": "code",
      "metadata": {
        "id": "hxEkENVU0IjQ"
      },
      "source": [
        "stock_final.to_csv (r'stock_dataframe.csv', index = False)"
      ],
      "execution_count": 9,
      "outputs": []
    },
    {
      "cell_type": "code",
      "metadata": {
        "colab": {
          "base_uri": "https://localhost:8080/",
          "height": 235
        },
        "id": "7ECB7FGB3Mtn",
        "outputId": "abef3a2f-24f7-4059-aa39-5684faa22f53"
      },
      "source": [
        "stock_final.head()"
      ],
      "execution_count": 7,
      "outputs": [
        {
          "output_type": "execute_result",
          "data": {
            "text/html": [
              "<div>\n",
              "<style scoped>\n",
              "    .dataframe tbody tr th:only-of-type {\n",
              "        vertical-align: middle;\n",
              "    }\n",
              "\n",
              "    .dataframe tbody tr th {\n",
              "        vertical-align: top;\n",
              "    }\n",
              "\n",
              "    .dataframe thead th {\n",
              "        text-align: right;\n",
              "    }\n",
              "</style>\n",
              "<table border=\"1\" class=\"dataframe\">\n",
              "  <thead>\n",
              "    <tr style=\"text-align: right;\">\n",
              "      <th></th>\n",
              "      <th>Name</th>\n",
              "      <th>Close</th>\n",
              "    </tr>\n",
              "    <tr>\n",
              "      <th>Date</th>\n",
              "      <th></th>\n",
              "      <th></th>\n",
              "    </tr>\n",
              "  </thead>\n",
              "  <tbody>\n",
              "    <tr>\n",
              "      <th>2020-09-04</th>\n",
              "      <td>AACQ</td>\n",
              "      <td>10.00</td>\n",
              "    </tr>\n",
              "    <tr>\n",
              "      <th>2020-09-08</th>\n",
              "      <td>AACQ</td>\n",
              "      <td>9.95</td>\n",
              "    </tr>\n",
              "    <tr>\n",
              "      <th>2020-09-09</th>\n",
              "      <td>AACQ</td>\n",
              "      <td>9.99</td>\n",
              "    </tr>\n",
              "    <tr>\n",
              "      <th>2020-09-10</th>\n",
              "      <td>AACQ</td>\n",
              "      <td>9.96</td>\n",
              "    </tr>\n",
              "    <tr>\n",
              "      <th>2020-09-11</th>\n",
              "      <td>AACQ</td>\n",
              "      <td>9.96</td>\n",
              "    </tr>\n",
              "  </tbody>\n",
              "</table>\n",
              "</div>"
            ],
            "text/plain": [
              "            Name  Close\n",
              "Date                   \n",
              "2020-09-04  AACQ  10.00\n",
              "2020-09-08  AACQ   9.95\n",
              "2020-09-09  AACQ   9.99\n",
              "2020-09-10  AACQ   9.96\n",
              "2020-09-11  AACQ   9.96"
            ]
          },
          "metadata": {
            "tags": []
          },
          "execution_count": 7
        }
      ]
    },
    {
      "cell_type": "code",
      "metadata": {
        "id": "jEsrnaf61OjK"
      },
      "source": [
        "stock_final = pd.read_csv('/Users/michaelhyh/ProjectData/GitHub/blueprint-2021/load_stock_symbols/stock_dataframe.csv')"
      ],
      "execution_count": 6,
      "outputs": []
    },
    {
      "cell_type": "code",
      "metadata": {
        "id": "mQe70XQlnSJv"
      },
      "source": [
        "prevName = ''\n",
        "count = -1\n",
        "data_list = []\n",
        "for index, row in stock_final.iterrows():\n",
        "    if row['Name'] != prevName:\n",
        "        count += 1\n",
        "        data_list.append([])\n",
        "        prevName = row['Name']\n",
        "    if not math.isnan(row['Close']):\n",
        "        data_list[count].append(row['Close'])"
      ],
      "execution_count": 7,
      "outputs": []
    },
    {
      "cell_type": "code",
      "metadata": {
        "id": "oHohckVf3K-D"
      },
      "source": [],
      "execution_count": null,
      "outputs": []
    },
    {
      "cell_type": "code",
      "metadata": {
        "id": "TnPWnwecLjPJ"
      },
      "source": [
        "def toDataset(arr, window_size=30):\n",
        "    final_ds = None\n",
        "    for row in arr:\n",
        "        r_arr = np.array(row)\n",
        "        series = tf.expand_dims(r_arr,-1)\n",
        "        ds = tf.data.Dataset.from_tensor_slices(series)\n",
        "        ds = ds.window(window_size+1,shift=window_size,drop_remainder=True)\n",
        "        ds = ds.flat_map(lambda window: window.batch(window_size+1))\n",
        "        for window in ds.as_numpy_iterator():\n",
        "            window = (window-np.mean(window))/np.std(window)\n",
        "        ds = ds.map(lambda window: (window[:-1], window[1:]))\n",
        "        if final_ds:\n",
        "            final_ds = final_ds.concatenate(ds)\n",
        "        else:\n",
        "            final_ds = ds\n",
        "    print(final_ds.element_spec)\n",
        "    return final_ds.batch(128).prefetch(1)"
      ],
      "execution_count": 8,
      "outputs": []
    },
    {
      "cell_type": "code",
      "metadata": {
        "id": "du46jdrPQzKf",
        "colab": {
          "base_uri": "https://localhost:8080/"
        },
        "outputId": "00a2e242-bbe2-4df5-d0af-360c2635dc71"
      },
      "source": [
        "train_ds = toDataset(data_list[:1000])\n",
        "val_ds = toDataset(data_list[1000:])"
      ],
      "execution_count": 9,
      "outputs": [
        {
          "output_type": "stream",
          "name": "stdout",
          "text": [
            "(TensorSpec(shape=(None, 1), dtype=tf.float64, name=None), TensorSpec(shape=(None, 1), dtype=tf.float64, name=None))\n",
            "(TensorSpec(shape=(None, 1), dtype=tf.float64, name=None), TensorSpec(shape=(None, 1), dtype=tf.float64, name=None))\n"
          ]
        }
      ]
    },
    {
      "cell_type": "code",
      "metadata": {
        "id": "HtyNPQuZpWTX",
        "colab": {
          "base_uri": "https://localhost:8080/"
        },
        "outputId": "93c795ff-3029-4b70-bbb7-d7b85754fc17"
      },
      "source": [
        "in_batch, out_batch = tf.data.experimental.get_single_element(train_ds.take(1))\n",
        "print(in_batch)"
      ],
      "execution_count": 10,
      "outputs": []
    },
    {
      "cell_type": "code",
      "metadata": {
        "id": "NhFDu9CgLjYS"
      },
      "source": [
        "model = tf.keras.models.Sequential([\r\n",
        "    tf.keras.layers.SimpleRNN(64,return_sequences=True,input_shape=[30,1]),\r\n",
        "    tf.keras.layers.Dense(1)\r\n",
        "])"
      ],
      "execution_count": 60,
      "outputs": []
    },
    {
      "cell_type": "code",
      "metadata": {
        "id": "8j1t0Ixsnnp2"
      },
      "source": [
        "model.compile(optimizer=tf.keras.optimizers.Adam(clipvalue=1),loss=tf.keras.losses.Huber(),metrics=['mse'])"
      ],
      "execution_count": 61,
      "outputs": []
    },
    {
      "cell_type": "code",
      "metadata": {
        "colab": {
          "base_uri": "https://localhost:8080/"
        },
        "id": "IGy75yU0sc6C",
        "outputId": "c81a56f9-5d23-4f18-b6a3-a52f0fcc935e"
      },
      "source": [
        "model.summary()"
      ],
      "execution_count": 62,
      "outputs": [
        {
          "output_type": "stream",
          "text": [
            "Model: \"sequential_6\"\n",
            "_________________________________________________________________\n",
            "Layer (type)                 Output Shape              Param #   \n",
            "=================================================================\n",
            "simple_rnn_13 (SimpleRNN)    (None, 30, 64)            4224      \n",
            "_________________________________________________________________\n",
            "dense_3 (Dense)              (None, 30, 1)             65        \n",
            "=================================================================\n",
            "Total params: 4,289\n",
            "Trainable params: 4,289\n",
            "Non-trainable params: 0\n",
            "_________________________________________________________________\n"
          ],
          "name": "stdout"
        }
      ]
    },
    {
      "cell_type": "code",
      "metadata": {
        "colab": {
          "base_uri": "https://localhost:8080/"
        },
        "id": "3CHZlKpNZmQD",
        "outputId": "3efec928-d088-436a-8fbb-2c9437a1e978"
      },
      "source": [
        "model.fit(train_ds, epochs=20,validation_data=val_ds,callbacks=[tf.keras.callbacks.ModelCheckpoint(\r\n",
        "    \"model.h5\", save_best_only=True)])"
      ],
      "execution_count": 63,
      "outputs": [
        {
          "output_type": "stream",
          "text": [
            "Epoch 1/20\n",
            "218/218 [==============================] - 28s 122ms/step - loss: 0.0307 - mse: 0.0640 - val_loss: 0.0066 - val_mse: 0.0133\n",
            "Epoch 2/20\n",
            "218/218 [==============================] - 26s 119ms/step - loss: 0.0074 - mse: 0.0154 - val_loss: 0.0064 - val_mse: 0.0129\n",
            "Epoch 3/20\n",
            "218/218 [==============================] - 27s 122ms/step - loss: 0.0073 - mse: 0.0151 - val_loss: 0.0064 - val_mse: 0.0129\n",
            "Epoch 4/20\n",
            "218/218 [==============================] - 26s 120ms/step - loss: 0.0073 - mse: 0.0150 - val_loss: 0.0063 - val_mse: 0.0128\n",
            "Epoch 5/20\n",
            "218/218 [==============================] - 27s 123ms/step - loss: 0.0072 - mse: 0.0150 - val_loss: 0.0063 - val_mse: 0.0128\n",
            "Epoch 6/20\n",
            "218/218 [==============================] - 26s 120ms/step - loss: 0.0072 - mse: 0.0149 - val_loss: 0.0063 - val_mse: 0.0127\n",
            "Epoch 7/20\n",
            "218/218 [==============================] - 26s 118ms/step - loss: 0.0072 - mse: 0.0149 - val_loss: 0.0063 - val_mse: 0.0127\n",
            "Epoch 8/20\n",
            "218/218 [==============================] - 27s 123ms/step - loss: 0.0072 - mse: 0.0149 - val_loss: 0.0063 - val_mse: 0.0127\n",
            "Epoch 9/20\n",
            "218/218 [==============================] - 26s 120ms/step - loss: 0.0072 - mse: 0.0148 - val_loss: 0.0063 - val_mse: 0.0127\n",
            "Epoch 10/20\n",
            "218/218 [==============================] - 26s 119ms/step - loss: 0.0071 - mse: 0.0148 - val_loss: 0.0062 - val_mse: 0.0127\n",
            "Epoch 11/20\n",
            "218/218 [==============================] - 27s 122ms/step - loss: 0.0071 - mse: 0.0148 - val_loss: 0.0062 - val_mse: 0.0126\n",
            "Epoch 12/20\n",
            "218/218 [==============================] - 27s 122ms/step - loss: 0.0071 - mse: 0.0147 - val_loss: 0.0062 - val_mse: 0.0126\n",
            "Epoch 13/20\n",
            "218/218 [==============================] - 26s 118ms/step - loss: 0.0071 - mse: 0.0147 - val_loss: 0.0062 - val_mse: 0.0126\n",
            "Epoch 14/20\n",
            "218/218 [==============================] - 26s 119ms/step - loss: 0.0071 - mse: 0.0146 - val_loss: 0.0062 - val_mse: 0.0126\n",
            "Epoch 15/20\n",
            "218/218 [==============================] - 26s 121ms/step - loss: 0.0070 - mse: 0.0146 - val_loss: 0.0062 - val_mse: 0.0125\n",
            "Epoch 16/20\n",
            "218/218 [==============================] - 26s 121ms/step - loss: 0.0070 - mse: 0.0146 - val_loss: 0.0062 - val_mse: 0.0125\n",
            "Epoch 17/20\n",
            "218/218 [==============================] - 26s 121ms/step - loss: 0.0070 - mse: 0.0145 - val_loss: 0.0062 - val_mse: 0.0125\n",
            "Epoch 18/20\n",
            "218/218 [==============================] - 26s 121ms/step - loss: 0.0070 - mse: 0.0145 - val_loss: 0.0062 - val_mse: 0.0125\n",
            "Epoch 19/20\n",
            "218/218 [==============================] - 26s 119ms/step - loss: 0.0070 - mse: 0.0145 - val_loss: 0.0062 - val_mse: 0.0125\n",
            "Epoch 20/20\n",
            "218/218 [==============================] - 26s 118ms/step - loss: 0.0070 - mse: 0.0144 - val_loss: 0.0062 - val_mse: 0.0125\n"
          ],
          "name": "stdout"
        },
        {
          "output_type": "execute_result",
          "data": {
            "text/plain": [
              "<tensorflow.python.keras.callbacks.History at 0x7f2c7bc85668>"
            ]
          },
          "metadata": {
            "tags": []
          },
          "execution_count": 63
        }
      ]
    },
    {
      "cell_type": "code",
      "metadata": {
        "id": "TavQ2440nFes",
        "colab": {
          "base_uri": "https://localhost:8080/"
        },
        "outputId": "3fad80bd-0189-4c1c-b705-9e6dda07ce40"
      },
      "source": [
        "new_ds = train_ds.take(1)\r\n",
        "print(new_ds.element_spec)"
      ],
      "execution_count": 64,
      "outputs": [
        {
          "output_type": "stream",
          "text": [
            "(TensorSpec(shape=(None, None, 1), dtype=tf.float64, name=None), TensorSpec(shape=(None, None, 1), dtype=tf.float64, name=None))\n"
          ],
          "name": "stdout"
        }
      ]
    },
    {
      "cell_type": "code",
      "metadata": {
        "colab": {
          "base_uri": "https://localhost:8080/"
        },
        "id": "Du0VnybyzqCn",
        "outputId": "b04d685b-8a33-4010-f3d8-663df8c9efe2"
      },
      "source": [
        "result = model.predict(new_ds)\n",
        "print(result.shape)"
      ],
      "execution_count": 65,
      "outputs": [
        {
          "output_type": "stream",
          "text": [
            "(128, 30, 1)\n"
          ],
          "name": "stdout"
        }
      ]
    },
    {
      "cell_type": "code",
      "metadata": {
        "colab": {
          "base_uri": "https://localhost:8080/",
          "height": 300
        },
        "id": "LG-3lFQp9-Ms",
        "outputId": "892ab184-0700-4c43-f260-edbf17297eff"
      },
      "source": [
        "import matplotlib.pyplot as plt\n",
        "list_in = new_ds.as_numpy_iterator()\n",
        "list_in = next(list_in)[1]\n",
        "list_in = list_in[0]\n",
        "list_giv = [val[0] for val in list_in]\n",
        "list_out = result[0]\n",
        "list_pre = [val[0] for val in list_out]\n",
        "plt.plot(range(len(list_giv)), list_giv, label='actual')\n",
        "plt.plot(range(len(list_pre)),list_pre, label='prediction')\n",
        "plt.legend()\n",
        "plt.xlabel('time')\n",
        "plt.ylabel('price')\n",
        "\n"
      ],
      "execution_count": 67,
      "outputs": [
        {
          "output_type": "execute_result",
          "data": {
            "text/plain": [
              "Text(0, 0.5, 'price')"
            ]
          },
          "metadata": {
            "tags": []
          },
          "execution_count": 67
        },
        {
          "output_type": "display_data",
          "data": {
            "image/png": "[encoded data removed]",
            "text/plain": [
              "<Figure size 432x288 with 1 Axes>"
            ]
          },
          "metadata": {
            "tags": [],
            "needs_background": "light"
          }
        }
      ]
    },
    {
      "cell_type": "code",
      "metadata": {
        "id": "6SWP-muAQihD"
      },
      "source": [],
      "execution_count": null,
      "outputs": []
    }
  ]
}